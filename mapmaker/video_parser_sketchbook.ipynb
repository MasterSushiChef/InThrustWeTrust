{
 "cells": [
  {
   "cell_type": "markdown",
   "metadata": {},
   "source": [
    "http://matthewalunbrown.com/autostitch/autostitch.html\n",
    "https://gist.github.com/dinomono/70d5f9d049792a2cc0ad85245b0ef523"
   ]
  },
  {
   "cell_type": "code",
   "execution_count": 1,
   "metadata": {},
   "outputs": [],
   "source": [
    "import numpy as np\n",
    "import cv2\n",
    "import os"
   ]
  },
  {
   "cell_type": "markdown",
   "metadata": {},
   "source": [
    "Inputs"
   ]
  },
  {
   "cell_type": "code",
   "execution_count": 2,
   "metadata": {},
   "outputs": [],
   "source": [
    "dirName = \"example5\"\n",
    "vidName = \"footage_example.mp4\"\n",
    "sample_rate = 30"
   ]
  },
  {
   "cell_type": "markdown",
   "metadata": {},
   "source": [
    "Make destination directory"
   ]
  },
  {
   "cell_type": "code",
   "execution_count": 3,
   "metadata": {},
   "outputs": [],
   "source": [
    "if not os.path.exists(dirName):\n",
    "    os.makedirs(dirName)"
   ]
  },
  {
   "cell_type": "markdown",
   "metadata": {},
   "source": [
    "Parse Video"
   ]
  },
  {
   "cell_type": "code",
   "execution_count": 4,
   "metadata": {
    "scrolled": true
   },
   "outputs": [
    {
     "name": "stdout",
     "output_type": "stream",
     "text": [
      "Saving Frame: 0\n",
      "Saving Frame: 30\n",
      "Saving Frame: 60\n",
      "Saving Frame: 90\n",
      "Saving Frame: 120\n",
      "Saving Frame: 150\n",
      "Saving Frame: 180\n",
      "Saving Frame: 210\n",
      "Saving Frame: 240\n",
      "Saving Frame: 270\n",
      "Saving Frame: 300\n",
      "Saving Frame: 330\n",
      "Saving Frame: 360\n",
      "Saving Frame: 390\n",
      "Saving Frame: 420\n",
      "Saving Frame: 450\n",
      "Saving Frame: 480\n",
      "Saving Frame: 510\n",
      "Saving Frame: 540\n",
      "Saving Frame: 570\n",
      "Saving Frame: 600\n",
      "Saving Frame: 630\n",
      "Saving Frame: 660\n",
      "Saving Frame: 690\n",
      "Saving Frame: 720\n",
      "Saving Frame: 750\n",
      "Saving Frame: 780\n",
      "Saving Frame: 810\n",
      "Saving Frame: 840\n",
      "Saving Frame: 870\n",
      "Saving Frame: 900\n",
      "Saving Frame: 930\n",
      "Saving Frame: 960\n",
      "Saving Frame: 990\n",
      "Saving Frame: 1020\n",
      "Saving Frame: 1050\n",
      "Saving Frame: 1080\n",
      "Saving Frame: 1110\n",
      "Saving Frame: 1140\n",
      "Saving Frame: 1170\n",
      "Saving Frame: 1200\n",
      "Saving Frame: 1230\n",
      "Saving Frame: 1260\n",
      "Saving Frame: 1290\n",
      "Saving Frame: 1320\n",
      "Saving Frame: 1350\n",
      "Saving Frame: 1380\n",
      "Saving Frame: 1410\n",
      "Saving Frame: 1440\n",
      "Saving Frame: 1470\n",
      "Saving Frame: 1500\n",
      "Saving Frame: 1530\n",
      "Saving Frame: 1560\n",
      "Saving Frame: 1590\n",
      "Saving Frame: 1620\n",
      "Saving Frame: 1650\n",
      "Saving Frame: 1680\n",
      "Saving Frame: 1710\n",
      "Saving Frame: 1740\n",
      "Saving Frame: 1770\n",
      "Saving Frame: 1800\n",
      "Saving Frame: 1830\n",
      "Saving Frame: 1860\n",
      "Saving Frame: 1890\n",
      "Saving Frame: 1920\n",
      "Saving Frame: 1950\n",
      "Saving Frame: 1980\n",
      "Saving Frame: 2010\n",
      "Saving Frame: 2040\n",
      "Saving Frame: 2070\n",
      "Saving Frame: 2100\n",
      "Saving Frame: 2130\n",
      "Saving Frame: 2160\n",
      "Saving Frame: 2190\n",
      "Saving Frame: 2220\n",
      "Saving Frame: 2250\n",
      "Saving Frame: 2280\n",
      "Saving Frame: 2310\n",
      "Saving Frame: 2340\n",
      "Saving Frame: 2370\n",
      "Saving Frame: 2400\n",
      "Saving Frame: 2430\n",
      "Saving Frame: 2460\n",
      "Saving Frame: 2490\n",
      "Saving Frame: 2520\n",
      "Saving Frame: 2550\n",
      "Saving Frame: 2580\n",
      "Saving Frame: 2610\n",
      "Saving Frame: 2640\n",
      "Saving Frame: 2670\n",
      "Saving Frame: 2700\n",
      "Saving Frame: 2730\n",
      "Saving Frame: 2760\n",
      "Saving Frame: 2790\n",
      "Saving Frame: 2820\n",
      "Saving Frame: 2850\n",
      "Saving Frame: 2880\n",
      "Saving Frame: 2910\n",
      "Saving Frame: 2940\n",
      "Saving Frame: 2970\n",
      "Saving Frame: 3000\n",
      "Saving Frame: 3030\n",
      "Saving Frame: 3060\n",
      "Saving Frame: 3090\n",
      "Saving Frame: 3120\n",
      "Saving Frame: 3150\n",
      "Saving Frame: 3180\n",
      "Saving Frame: 3210\n",
      "Saving Frame: 3240\n",
      "Saving Frame: 3270\n",
      "Saving Frame: 3300\n",
      "Saving Frame: 3330\n",
      "Saving Frame: 3360\n",
      "Saving Frame: 3390\n",
      "Saving Frame: 3420\n",
      "Saving Frame: 3450\n",
      "Saving Frame: 3480\n",
      "Saving Frame: 3510\n",
      "Saving Frame: 3540\n",
      "Saving Frame: 3570\n",
      "Saving Frame: 3600\n",
      "Saving Frame: 3630\n",
      "Saving Frame: 3660\n",
      "Saving Frame: 3690\n",
      "Saving Frame: 3720\n",
      "Saving Frame: 3750\n",
      "Saving Frame: 3780\n",
      "Saving Frame: 3810\n",
      "Saving Frame: 3840\n",
      "Saving Frame: 3870\n",
      "Saving Frame: 3900\n",
      "Saving Frame: 3930\n",
      "Saving Frame: 3960\n",
      "Saving Frame: 3990\n",
      "Saving Frame: 4020\n",
      "Saving Frame: 4050\n",
      "Saving Frame: 4080\n",
      "Saving Frame: 4110\n",
      "Saving Frame: 4140\n",
      "Saving Frame: 4170\n",
      "Saving Frame: 4200\n",
      "Saving Frame: 4230\n",
      "Saving Frame: 4260\n",
      "Saving Frame: 4290\n",
      "Saving Frame: 4320\n",
      "Saving Frame: 4350\n",
      "Saving Frame: 4380\n",
      "Saving Frame: 4410\n",
      "Saving Frame: 4440\n",
      "Saving Frame: 4470\n",
      "Saving Frame: 4500\n",
      "Saving Frame: 4530\n",
      "Saving Frame: 4560\n"
     ]
    }
   ],
   "source": [
    "cap = cv2.VideoCapture(vidName)\n",
    "currentFrame = 0\n",
    "framePresent = True\n",
    "\n",
    "while(framePresent):\n",
    "    framePresent = cap.grab()\n",
    "    \n",
    "    if currentFrame % sample_rate == 0:\n",
    "        ret, frame = cap.retrieve()\n",
    "        imName = dirName + '/' + str(currentFrame) + '.jpg'\n",
    "        print('Saving Frame: {}'.format(currentFrame))\n",
    "        cv2.imwrite(imName, frame)\n",
    "        #cv2.imshow(imName, frame)\n",
    "        \n",
    "    currentFrame += 1"
   ]
  },
  {
   "cell_type": "code",
   "execution_count": 5,
   "metadata": {},
   "outputs": [],
   "source": [
    "cv2.destroyAllWindows()\n",
    "cap.release()"
   ]
  },
  {
   "cell_type": "code",
   "execution_count": null,
   "metadata": {},
   "outputs": [],
   "source": []
  }
 ],
 "metadata": {
  "kernelspec": {
   "display_name": "Python 3",
   "language": "python",
   "name": "python3"
  },
  "language_info": {
   "codemirror_mode": {
    "name": "ipython",
    "version": 3
   },
   "file_extension": ".py",
   "mimetype": "text/x-python",
   "name": "python",
   "nbconvert_exporter": "python",
   "pygments_lexer": "ipython3",
   "version": "3.8.3"
  }
 },
 "nbformat": 4,
 "nbformat_minor": 4
}
